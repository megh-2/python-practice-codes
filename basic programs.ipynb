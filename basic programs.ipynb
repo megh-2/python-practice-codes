{
 "cells": [
  {
   "cell_type": "markdown",
   "metadata": {},
   "source": [
    "# factorial"
   ]
  },
  {
   "cell_type": "code",
   "execution_count": 2,
   "metadata": {},
   "outputs": [
    {
     "name": "stdout",
     "output_type": "stream",
     "text": [
      "the factorial of  number  5 is: 120\n"
     ]
    }
   ],
   "source": [
    "f = 1\n",
    "x= int(input(\"Enter a number:\"))\n",
    "if x<0:\n",
    "    print(\"factorial is not possible!\")\n",
    "elif x == 0:\n",
    "    print(\"factorial is equal to 1.\")\n",
    "else:\n",
    "    for i in range(1,x+1):\n",
    "        f = f * i\n",
    "    print(\"the factorial of  number \",x , \"is:\",f)\n",
    "\n",
    "\n"
   ]
  },
  {
   "cell_type": "markdown",
   "metadata": {},
   "source": [
    "# fibonacci"
   ]
  },
  {
   "cell_type": "code",
   "execution_count": 33,
   "metadata": {},
   "outputs": [
    {
     "name": "stdout",
     "output_type": "stream",
     "text": [
      "0\n",
      "1\n",
      "1\n",
      "2\n",
      "3\n"
     ]
    }
   ],
   "source": [
    "first = 0\n",
    "second =1\n",
    "print(first)\n",
    "print(second)\n",
    "for i in range(2,5):\n",
    "    next = first+second\n",
    "    first = second\n",
    "    second = next\n",
    "    print(next)"
   ]
  },
  {
   "cell_type": "code",
   "execution_count": 41,
   "metadata": {},
   "outputs": [
    {
     "name": "stdout",
     "output_type": "stream",
     "text": [
      "Fibonacci Series:  0 1 1 2 3 "
     ]
    }
   ],
   "source": [
    "n = int(input(\"Enter the value of 'n': \"))\n",
    "a = 0\n",
    "b = 1\n",
    "sum = 0\n",
    "count = 1\n",
    "print(\"Fibonacci Series: \",end = \" \")\n",
    "while(count <= n):\n",
    "  print(sum, end = \" \")\n",
    "  count += 1\n",
    "  a = b\n",
    "  b = sum\n",
    "  sum = a + b"
   ]
  },
  {
   "cell_type": "markdown",
   "metadata": {},
   "source": [
    "#swappinng"
   ]
  },
  {
   "cell_type": "code",
   "execution_count": 4,
   "metadata": {},
   "outputs": [
    {
     "name": "stdout",
     "output_type": "stream",
     "text": [
      "5 5\n"
     ]
    }
   ],
   "source": [
    "a = int(input())\n",
    "b = int(input())\n",
    "c =a\n",
    "a=b\n",
    "b=c\n",
    "print(a,b)"
   ]
  },
  {
   "cell_type": "code",
   "execution_count": 5,
   "metadata": {},
   "outputs": [
    {
     "name": "stdout",
     "output_type": "stream",
     "text": [
      "4 6 2\n"
     ]
    }
   ],
   "source": [
    "a=2\n",
    "b=4\n",
    "c=6\n",
    "a,b,c= b,c,a\n",
    "print(a,b,c)"
   ]
  },
  {
   "cell_type": "code",
   "execution_count": 6,
   "metadata": {},
   "outputs": [
    {
     "name": "stdout",
     "output_type": "stream",
     "text": [
      "2 5\n"
     ]
    }
   ],
   "source": [
    "a=5\n",
    "b=2\n",
    "a=a+b\n",
    "b=a-b\n",
    "a=a-b\n",
    "print(a,b)"
   ]
  },
  {
   "cell_type": "markdown",
   "metadata": {},
   "source": [
    "# reversal of a string"
   ]
  },
  {
   "cell_type": "code",
   "execution_count": 7,
   "metadata": {},
   "outputs": [
    {
     "name": "stdout",
     "output_type": "stream",
     "text": [
      "['meghana', 'mothukuru']\n",
      "['mothukuru', 'meghana']\n",
      "mothukuru meghana\n"
     ]
    },
    {
     "data": {
      "text/plain": [
       "2"
      ]
     },
     "execution_count": 7,
     "metadata": {},
     "output_type": "execute_result"
    }
   ],
   "source": [
    "a=\"meghana mothukuru\"\n",
    "b = a.split(\" \")\n",
    "print(b)\n",
    "c =  b[::-1]\n",
    "print(c)\n",
    "final = \" \".join(c)\n",
    "print(final)\n",
    "len(a)\n",
    "len(b)"
   ]
  },
  {
   "cell_type": "markdown",
   "metadata": {},
   "source": [
    "# prime number"
   ]
  },
  {
   "cell_type": "code",
   "execution_count": 8,
   "metadata": {},
   "outputs": [
    {
     "name": "stdout",
     "output_type": "stream",
     "text": [
      "5  not a prime number\n"
     ]
    }
   ],
   "source": [
    "x= int(input())\n",
    "for i in range(2,x+1):\n",
    "    if x%i ==0:\n",
    "        print(x,\" not a prime number\")\n",
    "        break\n",
    "else:\n",
    "    print(x,\"is a prime number\")"
   ]
  },
  {
   "cell_type": "markdown",
   "metadata": {},
   "source": [
    "# armstrong"
   ]
  },
  {
   "cell_type": "code",
   "execution_count": 9,
   "metadata": {},
   "outputs": [
    {
     "name": "stdout",
     "output_type": "stream",
     "text": [
      "5 is an armstring number\n"
     ]
    }
   ],
   "source": [
    "\n",
    "num = int(input(\"enter a number:\"))\n",
    "sum=0\n",
    "order = len(str(num))\n",
    "a = num\n",
    "while(num >0):\n",
    "    digit = num% 10\n",
    "    sum = sum+digit ** order\n",
    "    num = num// 10\n",
    "if sum == a:\n",
    "    print(a,\"is an armstring number\")\n",
    "else:\n",
    "    print(a,\"is not an armstrong  number\")\n"
   ]
  },
  {
   "cell_type": "markdown",
   "metadata": {},
   "source": [
    "# call by value and reference"
   ]
  },
  {
   "cell_type": "code",
   "execution_count": 10,
   "metadata": {},
   "outputs": [
    {
     "name": "stdout",
     "output_type": "stream",
     "text": [
      "inside: meghana mothukuru\n",
      "ouside: iam\n"
     ]
    }
   ],
   "source": [
    "def tech(str):\n",
    "    str = \"meghana mothukuru\"\n",
    "    print(\"inside:\",str)        # call by value\n",
    "str = \"iam\"\n",
    "\n",
    "tech(str)\n",
    "print(\"ouside:\",str)"
   ]
  },
  {
   "cell_type": "code",
   "execution_count": 11,
   "metadata": {},
   "outputs": [
    {
     "name": "stdout",
     "output_type": "stream",
     "text": [
      "inside: {56, 34, 12, 50}\n",
      "ouside: {56, 34, 12, 50}\n"
     ]
    }
   ],
   "source": [
    "def tech(set):\n",
    "    set.add(56)\n",
    "    print(\"inside:\",set)        # call by value\n",
    "set1={12,34,50}\n",
    "tech(set1)\n",
    "print(\"ouside:\",set1)\n"
   ]
  },
  {
   "cell_type": "markdown",
   "metadata": {},
   "source": [
    "# seocnd largest number"
   ]
  },
  {
   "cell_type": "code",
   "execution_count": 12,
   "metadata": {},
   "outputs": [
    {
     "name": "stdout",
     "output_type": "stream",
     "text": [
      "[1, 3, 5, 6, 7, 90]\n",
      "7\n"
     ]
    }
   ],
   "source": [
    "\n",
    "list=[1,5,3,6,7,90]\n",
    "list.sort()\n",
    "print(list)\n",
    "print(list[-2])"
   ]
  },
  {
   "cell_type": "markdown",
   "metadata": {},
   "source": [
    "# palindrome"
   ]
  },
  {
   "cell_type": "code",
   "execution_count": 13,
   "metadata": {},
   "outputs": [
    {
     "ename": "ValueError",
     "evalue": "invalid literal for int() with base 10: '5\\\\'",
     "output_type": "error",
     "traceback": [
      "\u001b[1;31m---------------------------------------------------------------------------\u001b[0m",
      "\u001b[1;31mValueError\u001b[0m                                Traceback (most recent call last)",
      "Cell \u001b[1;32mIn[13], line 1\u001b[0m\n\u001b[1;32m----> 1\u001b[0m x\u001b[38;5;241m=\u001b[39m \u001b[38;5;28;43mint\u001b[39;49m\u001b[43m(\u001b[49m\u001b[38;5;28;43minput\u001b[39;49m\u001b[43m(\u001b[49m\u001b[43m)\u001b[49m\u001b[43m)\u001b[49m\n\u001b[0;32m      2\u001b[0m reverse \u001b[38;5;241m=\u001b[39m\u001b[38;5;241m0\u001b[39m\n\u001b[0;32m      3\u001b[0m num\u001b[38;5;241m=\u001b[39mx\n",
      "\u001b[1;31mValueError\u001b[0m: invalid literal for int() with base 10: '5\\\\'"
     ]
    }
   ],
   "source": [
    "x= int(input())\n",
    "reverse =0\n",
    "num=x\n",
    "while(x>0):\n",
    "    digit = x%10\n",
    "    reverse = reverse*10+digit\n",
    "    x = x//10\n",
    "if reverse == num:\n",
    "    print(num,\"is a palindrome number\")\n",
    "else:\n",
    "    print(num,\"is not a palinrome number\")\n"
   ]
  },
  {
   "cell_type": "markdown",
   "metadata": {},
   "source": [
    "# pattern"
   ]
  },
  {
   "cell_type": "code",
   "execution_count": 14,
   "metadata": {},
   "outputs": [
    {
     "name": "stdout",
     "output_type": "stream",
     "text": [
      "\n",
      "*\n",
      "**\n",
      "***\n",
      "****\n",
      "*****\n"
     ]
    }
   ],
   "source": [
    "x= int(input())\n",
    "for i in range(x):\n",
    "    for j in range(i):\n",
    "        print(\"*\",end=\"\")\n",
    "    print(\"\")"
   ]
  },
  {
   "cell_type": "code",
   "execution_count": 15,
   "metadata": {},
   "outputs": [
    {
     "name": "stdout",
     "output_type": "stream",
     "text": [
      "*****\n",
      "*****\n",
      "*****\n",
      "*****\n",
      "*****\n"
     ]
    }
   ],
   "source": [
    "x= int(input())\n",
    "for i in range(x):\n",
    "    for j in range(x):\n",
    "        print(\"*\",end=\"\")\n",
    "    print(\"\")"
   ]
  },
  {
   "cell_type": "code",
   "execution_count": 16,
   "metadata": {},
   "outputs": [
    {
     "name": "stdout",
     "output_type": "stream",
     "text": [
      "\n",
      "0\n",
      "01\n",
      "012\n",
      "0123\n"
     ]
    }
   ],
   "source": [
    "x= int(input())\n",
    "for i in range(x):\n",
    "    for j in range(i):\n",
    "        print(j,end=\"\")\n",
    "    print(\"\")"
   ]
  },
  {
   "cell_type": "markdown",
   "metadata": {},
   "source": [
    "# pascal traingle"
   ]
  },
  {
   "cell_type": "code",
   "execution_count": 18,
   "metadata": {},
   "outputs": [
    {
     "name": "stdout",
     "output_type": "stream",
     "text": [
      "      "
     ]
    },
    {
     "ename": "TypeError",
     "evalue": "'str' object is not callable",
     "output_type": "error",
     "traceback": [
      "\u001b[1;31m---------------------------------------------------------------------------\u001b[0m",
      "\u001b[1;31mTypeError\u001b[0m                                 Traceback (most recent call last)",
      "Cell \u001b[1;32mIn[18], line 9\u001b[0m\n\u001b[0;32m      7\u001b[0m \u001b[38;5;28;01mfor\u001b[39;00m i \u001b[38;5;129;01min\u001b[39;00m \u001b[38;5;28mrange\u001b[39m(rows):\n\u001b[0;32m      8\u001b[0m     \u001b[38;5;28mprint\u001b[39m(\u001b[38;5;124m\"\u001b[39m\u001b[38;5;124m \u001b[39m\u001b[38;5;124m\"\u001b[39m\u001b[38;5;241m*\u001b[39m(rows\u001b[38;5;241m-\u001b[39mi),end\u001b[38;5;241m=\u001b[39m\u001b[38;5;124m\"\u001b[39m\u001b[38;5;124m\"\u001b[39m)\n\u001b[1;32m----> 9\u001b[0m     \u001b[38;5;28mprint\u001b[39m(\u001b[38;5;124m\"\u001b[39m\u001b[38;5;124m \u001b[39m\u001b[38;5;124m\"\u001b[39m\u001b[38;5;241m.\u001b[39mjoin(\u001b[38;5;28mmap\u001b[39m(\u001b[38;5;28mstr\u001b[39m,\u001b[38;5;28;43mstr\u001b[39;49m\u001b[43m(\u001b[49m\u001b[38;5;241;43m11\u001b[39;49m\u001b[38;5;241;43m*\u001b[39;49m\u001b[38;5;241;43m*\u001b[39;49m\u001b[43mi\u001b[49m\u001b[43m)\u001b[49m)))\n",
      "\u001b[1;31mTypeError\u001b[0m: 'str' object is not callable"
     ]
    }
   ],
   "source": [
    "# 1\n",
    "#  11\n",
    "# 121\n",
    "#1331\n",
    "#14641\n",
    "rows=6\n",
    "for i in range(rows):\n",
    "    print(\" \"*(rows-i),end=\"\")\n",
    "    print(\" \".join(map(str,str(11**i))))"
   ]
  },
  {
   "cell_type": "code",
   "execution_count": 19,
   "metadata": {},
   "outputs": [
    {
     "name": "stdout",
     "output_type": "stream",
     "text": [
      "*****\n",
      " *****\n",
      "  *****\n",
      "   *****\n",
      "    *****\n"
     ]
    }
   ],
   "source": [
    "num = int(input(\"Enter the number:\"))\n",
    "\n",
    "for i in range(0, num):\n",
    "    for j in range(1, i+1):\n",
    "        print(\" \", end=\"\")\n",
    "    for j in range(0, num):\n",
    "        print(\"*\", end=\"\")\n",
    "    print()"
   ]
  },
  {
   "cell_type": "markdown",
   "metadata": {},
   "source": [
    "# matrix multiplication"
   ]
  },
  {
   "cell_type": "code",
   "execution_count": 20,
   "metadata": {},
   "outputs": [
    {
     "name": "stdout",
     "output_type": "stream",
     "text": [
      "[[ 428  763  401]\n",
      " [1016 2607 3203]\n",
      " [ 814 2269 3085]]\n"
     ]
    }
   ],
   "source": [
    "import numpy as np \n",
    "a = np.array([[1,4,5],[35,6,7],[34,7,3]])\n",
    "b = np.array([[12,45,78],[34,67,52],[56,90,23]])\n",
    "c = np.dot(a,b)\n",
    "print(c)"
   ]
  },
  {
   "cell_type": "code",
   "execution_count": 23,
   "metadata": {},
   "outputs": [
    {
     "name": "stdout",
     "output_type": "stream",
     "text": [
      " ****\n",
      " ****\n",
      " ****\n",
      " ****\n"
     ]
    }
   ],
   "source": [
    "n=4\n",
    "for i in range (n):\n",
    "    print(''*i,'*'*n)"
   ]
  },
  {
   "cell_type": "markdown",
   "metadata": {},
   "source": [
    "# gcd"
   ]
  },
  {
   "cell_type": "code",
   "execution_count": 30,
   "metadata": {},
   "outputs": [
    {
     "name": "stdout",
     "output_type": "stream",
     "text": [
      "GCD of 45 and 60 is 15\n",
      "lcm is : 180\n"
     ]
    }
   ],
   "source": [
    "num1 = 45\n",
    "num2 = 60\n",
    "gcd = 1\n",
    "a=num1\n",
    "b=num2\n",
    "for i in range(1, min(num1,num2)):\n",
    "    if num1 % i == 0 and num2 % i == 0:\n",
    "        gcd = i\n",
    "print(\"GCD of\", num1, \"and\", num2, \"is\", gcd)\n",
    "lcm = (a*b)//gcd\n",
    "print(\"lcm is :\",lcm)"
   ]
  },
  {
   "cell_type": "code",
   "execution_count": null,
   "metadata": {},
   "outputs": [],
   "source": []
  },
  {
   "cell_type": "code",
   "execution_count": 44,
   "metadata": {},
   "outputs": [
    {
     "name": "stdout",
     "output_type": "stream",
     "text": [
      "+\n",
      "-\n",
      "*\n",
      "/\n",
      "Enter two numbers\n",
      "63\n"
     ]
    }
   ],
   "source": [
    "\n",
    "def calculate():\n",
    "  print(\"+\")\n",
    "  print(\"-\")\n",
    "  print(\"*\")\n",
    "  print(\"/\")\n",
    "  operation = input(\"Select an operator:n\")\n",
    "  print(\"Enter two numbers\")\n",
    "  number_1 = int(input())\n",
    "  number_2 = int(input())\n",
    "\n",
    "  if operation == '+': # To add two numbers\n",
    "    print(number_1 + number_2)\n",
    "\n",
    "  elif operation == '-': # To subtract two numbers\n",
    "    print(number_1 - number_2)\n",
    "\n",
    "  elif operation == '*': # To multiply two numbers\n",
    "    print(number_1 * number_2)\n",
    "\n",
    "  elif operation == '/': # To divide two numbers\n",
    "    print(number_1 / number_2)\n",
    "\n",
    "  else:\n",
    "    print('Invalid Input')\n",
    "# Function Call\n",
    "calculate()"
   ]
  },
  {
   "cell_type": "code",
   "execution_count": 56,
   "metadata": {},
   "outputs": [
    {
     "name": "stdout",
     "output_type": "stream",
     "text": [
      "Wrong input..!!\n"
     ]
    }
   ],
   "source": [
    "choice = int(input(\"Enter your choice:n\"))  # User's choice[1,2,3,4]\n",
    "if (choice>=1 and choice<=4):\n",
    "  print(\"Enter two numbers: \")\n",
    "  num1 = int(input())\n",
    "  num2 = int(input())\n",
    "  print(num1,num2)\n",
    "  if choice == 1: # To add two numbers\n",
    "    res = num1 + num2\n",
    "    print(\"Result = \", res)\n",
    "\n",
    "  elif choice == 2: # To subtract two numbers\n",
    "    res = num1 - num2\n",
    "    print(\"Result = \", res)\n",
    "\n",
    "  elif choice == 3: # To multiply two numbers\n",
    "    res = num1 * num2\n",
    "    print(\"Result = \", res)\n",
    "\n",
    "  elif choice == 4: # To get quotient with decimal value\n",
    "    res = num1 / num2\n",
    "    print(\"Result = \", res)\n",
    "\n",
    "  elif choice == 5:\n",
    "    exit()\n",
    "else:\n",
    "  print(\"Wrong input..!!\")"
   ]
  },
  {
   "cell_type": "code",
   "execution_count": 61,
   "metadata": {},
   "outputs": [
    {
     "name": "stdout",
     "output_type": "stream",
     "text": [
      "* \n",
      "* * \n",
      "* * * \n",
      "* * * * \n",
      "* * * * * \n",
      "* * * * \n",
      "* * * \n",
      "* * \n",
      "* \n",
      "\n"
     ]
    }
   ],
   "source": [
    "rows = input(\"Enter the number of rows: \")\n",
    "rows = int (rows)\n",
    "for i in range (0, rows):\n",
    "  for j in range(0, i + 1):\n",
    "    print(\"*\", end = ' ')\n",
    "  print()\n",
    "\n",
    "for i in range (rows, 0, -1):\n",
    "   for j in range(0, i -1):\n",
    "   \n",
    "     print(\"*\", end = ' ')\n",
    "   print()"
   ]
  },
  {
   "cell_type": "code",
   "execution_count": 87,
   "metadata": {},
   "outputs": [
    {
     "name": "stdout",
     "output_type": "stream",
     "text": [
      "  *\n",
      " ***\n",
      "*****\n",
      " ***\n",
      "  *\n"
     ]
    }
   ],
   "source": [
    "#top half\n",
    "rows = int(input(\"Enter the number of rows:\" ))\n",
    "k = 0\n",
    "for i in range(1, rows + 1):\n",
    "  # print spaces\n",
    "    for j in range (1, (rows - i) + 1):\n",
    "        print(end = \" \")\n",
    "\n",
    "    # let's print stars\n",
    "    while k != (2 * i - 1):\n",
    "        print(\"*\", end = \"\")\n",
    "        k = k + 1\n",
    "    k = 0 # add a line break\n",
    "    print()\n",
    "\n",
    "#bottom half\n",
    "k = 2\n",
    "m = 1\n",
    "for i in range(1, rows):\n",
    "  # print spaces\n",
    "    for j in range (1, k):\n",
    "        print(end = \" \")\n",
    "        k = k + 1# print star\n",
    "    while m <= (2 * (rows - i) - 1):\n",
    "        print(\"*\", end = \"\")\n",
    "        m = m + 1\n",
    "    m = 1#add a line break\n",
    "    print() "
   ]
  },
  {
   "cell_type": "code",
   "execution_count": 93,
   "metadata": {},
   "outputs": [
    {
     "name": "stdout",
     "output_type": "stream",
     "text": [
      "Enter array elements: \n",
      "5\n",
      "list : [3, 5, 6, 9, 5]\n",
      "Sum: 28\n"
     ]
    }
   ],
   "source": [
    "#Python program to add all the array elements using the built-in function\n",
    "lst = []\n",
    "num = int(input(\"Enter the size of the array: \"))\n",
    "print(\"Enter array elements: \")\n",
    "print(num)\n",
    "sum=0\n",
    "for n in range(num):\n",
    "  numbers = int(input())\n",
    "  lst.append(numbers)\n",
    "for i in lst:\n",
    "  sum = sum+i\n",
    "print(\"list :\",lst)\n",
    "print(\"Sum:\",sum )\n"
   ]
  },
  {
   "cell_type": "code",
   "execution_count": 7,
   "metadata": {},
   "outputs": [
    {
     "data": {
      "text/plain": [
       "23"
      ]
     },
     "execution_count": 7,
     "metadata": {},
     "output_type": "execute_result"
    }
   ],
   "source": [
    "n=int(input())\n",
    "ar=[]\n",
    "for i in range(n):\n",
    "    ele = int(input())\n",
    "    ar.append(ele)\n",
    "\n",
    "\n",
    "def simpleArraySum(ar):\n",
    "    # Write your code here\n",
    "\n",
    "    return sum(ar)\n",
    "\n",
    "simpleArraySum(ar)"
   ]
  },
  {
   "cell_type": "code",
   "execution_count": 11,
   "metadata": {},
   "outputs": [
    {
     "name": "stdout",
     "output_type": "stream",
     "text": [
      "[] []\n"
     ]
    }
   ],
   "source": [
    "\n",
    "\n",
    "a = list(map(int, input().rstrip().split()))\n",
    "\n",
    "b = list(map(int, input().rstrip().split()))\n",
    "print(a,b)"
   ]
  },
  {
   "cell_type": "code",
   "execution_count": 6,
   "metadata": {},
   "outputs": [
    {
     "name": "stdout",
     "output_type": "stream",
     "text": [
      "NO\n",
      "NO\n",
      "YES\n"
     ]
    }
   ],
   "source": [
    "# cook your dish here\n",
    "T = int(input())\n",
    "while T > 0:\n",
    "    x, y = map(int, input().split())\n",
    "    \n",
    "    if (x == 0 and y % 2 == 0):\n",
    "        print(\"YES\")\n",
    "    elif (x == 0 and y % 2 != 0):\n",
    "        print(\"NO\")\n",
    "    elif ((x + (2 * y)) % 2 == 0):\n",
    "        print(\"YES\")\n",
    "    else:\n",
    "        print(\"NO\")\n",
    "    T = T - 1"
   ]
  },
  {
   "cell_type": "code",
   "execution_count": 15,
   "metadata": {},
   "outputs": [
    {
     "name": "stdout",
     "output_type": "stream",
     "text": [
      "1\n"
     ]
    },
    {
     "ename": "NameError",
     "evalue": "name 'a_s' is not defined",
     "output_type": "error",
     "traceback": [
      "\u001b[1;31m---------------------------------------------------------------------------\u001b[0m",
      "\u001b[1;31mNameError\u001b[0m                                 Traceback (most recent call last)",
      "Cell \u001b[1;32mIn[15], line 29\u001b[0m\n\u001b[0;32m     25\u001b[0m a \u001b[38;5;241m=\u001b[39m \u001b[38;5;28mlist\u001b[39m(\u001b[38;5;28mmap\u001b[39m(\u001b[38;5;28mint\u001b[39m, \u001b[38;5;28minput\u001b[39m()\u001b[38;5;241m.\u001b[39mrstrip()\u001b[38;5;241m.\u001b[39msplit()))\n\u001b[0;32m     27\u001b[0m b \u001b[38;5;241m=\u001b[39m \u001b[38;5;28mlist\u001b[39m(\u001b[38;5;28mmap\u001b[39m(\u001b[38;5;28mint\u001b[39m, \u001b[38;5;28minput\u001b[39m()\u001b[38;5;241m.\u001b[39mrstrip()\u001b[38;5;241m.\u001b[39msplit()))\n\u001b[1;32m---> 29\u001b[0m result \u001b[38;5;241m=\u001b[39m compareTriplets(\u001b[43ma_s\u001b[49m, b_s,)\n\u001b[0;32m     31\u001b[0m r \u001b[38;5;241m=\u001b[39m (\u001b[38;5;124m'\u001b[39m\u001b[38;5;124m \u001b[39m\u001b[38;5;124m'\u001b[39m\u001b[38;5;241m.\u001b[39mjoin(\u001b[38;5;28mmap\u001b[39m(\u001b[38;5;28mstr\u001b[39m, result)))\n",
      "\u001b[1;31mNameError\u001b[0m: name 'a_s' is not defined"
     ]
    }
   ],
   "source": [
    "    \n",
    "def compareTriplets(a, b):\n",
    "    # Write your code here\n",
    "    n=len(a)\n",
    "    a_s=0\n",
    "    b_s=0\n",
    "    for i in range(0,n):\n",
    "        \n",
    "        if a[i] > b[i]:\n",
    "            a_s =a_s+1\n",
    "            return a_s\n",
    "        if a[i] < b[i]:\n",
    "            b_s=b_s+1\n",
    "            return b_s \n",
    "        if a[i]==b[i]:\n",
    "            return \"0\"\n",
    "print(result)\n",
    "\n",
    "\n",
    "\n",
    "\n",
    "\n",
    "if __name__ == '__main__':\n",
    "    \n",
    "\n",
    "    a = list(map(int, input().rstrip().split()))\n",
    "\n",
    "    b = list(map(int, input().rstrip().split()))\n",
    "\n",
    "    result = compareTriplets(a_s, b_s,)\n",
    "\n",
    "    r = (' '.join(map(str, result)))"
   ]
  }
 ],
 "metadata": {
  "kernelspec": {
   "display_name": "base",
   "language": "python",
   "name": "python3"
  },
  "language_info": {
   "codemirror_mode": {
    "name": "ipython",
    "version": 3
   },
   "file_extension": ".py",
   "mimetype": "text/x-python",
   "name": "python",
   "nbconvert_exporter": "python",
   "pygments_lexer": "ipython3",
   "version": "3.10.0"
  }
 },
 "nbformat": 4,
 "nbformat_minor": 2
}
